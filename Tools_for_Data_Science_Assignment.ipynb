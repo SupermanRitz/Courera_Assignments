{
 "cells": [
  {
   "cell_type": "markdown",
   "metadata": {},
   "source": [
    "<center>\n",
    "    <img src=\"https://cf-courses-data.s3.us.cloud-object-storage.appdomain.cloud/IBMDeveloperSkillsNetwork-DS0105EN-SkillsNetwork/labs/Module2/images/SN_web_lightmode.png\" width=\"300\" alt=\"cognitiveclass.ai logo\">\n",
    "</center>\n"
   ]
  },
  {
   "cell_type": "markdown",
   "metadata": {},
   "source": [
    "#### Add your code below following the instructions given in the course\n"
   ]
  },
  {
   "cell_type": "markdown",
   "metadata": {},
   "source": [
    "<h1>My Jupyter Notebook on IBM Watson Studio<h1>"
   ]
  },
  {
   "cell_type": "markdown",
   "metadata": {},
   "source": [
    "<i>In this notebook, Data Science Tools and Ecosystem are summarized.<i>"
   ]
  },
  {
   "cell_type": "markdown",
   "metadata": {},
   "source": [
    "<h4>Objectives</h4>\n",
    "<ul>\n",
    "    <li>List popular data science langauges</li>\n",
    "    <li>List popular data science packages</li>\n",
    "    <li>List popular data science tools</li>\n",
    "    <li>List Python arithmetic examples</li>\n",
    "    <li>Function to multiply 2 numbers and add a third</li>\n",
    "    <li>Function to convert minutes to hours, to 2 decimal places</li>\n",
    "</ul>"
   ]
  },
  {
   "cell_type": "markdown",
   "metadata": {},
   "source": [
    "Data Science Languages\n",
    "<ol>\n",
    "    <li>Python</li>\n",
    "    <li>SQL</li>\n",
    "    <li>R</li>\n",
    "    <li>Java</li>\n",
    "    <li>Scala</li>\n",
    "    <li>Julie</li>\n",
    "</ol>"
   ]
  },
  {
   "cell_type": "markdown",
   "metadata": {},
   "source": [
    "Data Science Libraries\n",
    "<ol>\n",
    "    <li>Pandas</li>\n",
    "    <li>Nunpy</li>\n",
    "    <li>Seaborn</li>\n",
    "    <li>Matplotlib</li>\n",
    "    <li>BeautifulSoup</li>\n",
    "    <li>PyTorch</li>\n",
    "    <li>TensorFlow</li>\n",
    "</ol>"
   ]
  },
  {
   "cell_type": "markdown",
   "metadata": {},
   "source": [
    "<table>\n",
    "    <thead>\n",
    "        <tr>\n",
    "            <th>Data Science Tools</th>\n",
    "        </tr>\n",
    "    </thead>\n",
    "    <tbody>\n",
    "        <tr>\n",
    "            <td>Oracle Database</td>\n",
    "        </tr>\n",
    "        <tr>\n",
    "            <td>Microsoft SQL Server</td>\n",
    "        </tr>\n",
    "        <tr>\n",
    "            <td>IBM Db2</td>\n",
    "        </tr>\n",
    "        <tr>\n",
    "            <td>IBM InfoSphere DataStage</td>\n",
    "        </tr>\n",
    "        <tr>\n",
    "            <td>SAP</td>\n",
    "        </tr>\n",
    "        <tr>\n",
    "            <td>Microsoft PowerBI</td>\n",
    "        </tr>\n",
    "        <tr>\n",
    "            <td>Tableau</td>\n",
    "        </tr>\n",
    "        <tr>\n",
    "            <td>Cognos Analytics</td>\n",
    "        </tr>\n",
    "    </tbody>\n",
    "</table><br>"
   ]
  },
  {
   "cell_type": "markdown",
   "metadata": {},
   "source": [
    "Below are a few examples of evaluating arithmetic expressions in Python\n",
    "\n",
    "<table>\n",
    "    <thead>\n",
    "        <tr>\n",
    "            <th>Expression</th>\n",
    "            <th>Example</th>\n",
    "        </tr>\n",
    "    </thead>\n",
    "    <tbody>\n",
    "        <tr>\n",
    "            <td>Addition</td>\n",
    "            <td>3 + 5 = 8</td>\n",
    "        </tr>\n",
    "        <tr>\n",
    "            <td>Subtraction</td>\n",
    "            <td>3 - 5 = -2</td>\n",
    "        </tr>\n",
    "        <tr>\n",
    "            <td>Multiplication</td>\n",
    "            <td>3 * 5 = 15</td>\n",
    "        </tr>\n",
    "        <tr>\n",
    "            <td>Division</td>\n",
    "            <td>3 + 5 = 0.6</td>\n",
    "        </tr>\n",
    "        <tr>\n",
    "            <td>Remainder</td>\n",
    "            <td>13 % 5 = 3</td>\n",
    "        </tr>\n",
    "    </tbody>\n",
    "</table>"
   ]
  },
  {
   "cell_type": "markdown",
   "metadata": {},
   "source": [
    "<h5>Evaluating Basic Arithmetic Expressions<h5>"
   ]
  },
  {
   "cell_type": "code",
   "execution_count": 7,
   "metadata": {},
   "outputs": [
    {
     "name": "stdout",
     "output_type": "stream",
     "text": [
      "1118\n"
     ]
    }
   ],
   "source": [
    "def multiply(a,b,c):\n",
    "    print(a*b+c)\n",
    "\n",
    "multiply(12,89,50)"
   ]
  },
  {
   "cell_type": "markdown",
   "metadata": {},
   "source": [
    "<h5>Converting Minutes to Hours<h5>"
   ]
  },
  {
   "cell_type": "code",
   "execution_count": 5,
   "metadata": {},
   "outputs": [
    {
     "name": "stdout",
     "output_type": "stream",
     "text": [
      "8160.27\n"
     ]
    }
   ],
   "source": [
    "import numpy\n",
    "def min_to_hrs(minutes):\n",
    "    print(numpy.round(minutes/60,2))\n",
    "    \n",
    "min_to_hrs(489616)"
   ]
  },
  {
   "cell_type": "markdown",
   "metadata": {},
   "source": [
    "Author's Name: Amrit M"
   ]
  },
  {
   "cell_type": "code",
   "execution_count": null,
   "metadata": {},
   "outputs": [],
   "source": []
  }
 ],
 "metadata": {
  "kernelspec": {
   "display_name": "Python 3 (ipykernel)",
   "language": "python",
   "name": "python3"
  },
  "language_info": {
   "codemirror_mode": {
    "name": "ipython",
    "version": 3
   },
   "file_extension": ".py",
   "mimetype": "text/x-python",
   "name": "python",
   "nbconvert_exporter": "python",
   "pygments_lexer": "ipython3",
   "version": "3.9.12"
  }
 },
 "nbformat": 4,
 "nbformat_minor": 4
}
